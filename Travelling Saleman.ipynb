{
 "cells": [
  {
   "cell_type": "code",
   "execution_count": 11,
   "id": "93f74744",
   "metadata": {},
   "outputs": [],
   "source": [
    "import matplotlib.pyplot as plt\n",
    "import numpy as np\n",
    "import math"
   ]
  },
  {
   "cell_type": "code",
   "execution_count": 12,
   "id": "3b4cfc22",
   "metadata": {},
   "outputs": [],
   "source": [
    "Points = np.array([361.0, 115.0,\n",
    "522.0, 130.0,\n",
    "576.0, 317.0,\n",
    "409.0, 457.0,\n",
    "202.0, 439.0,\n",
    "698.0, 219.0,\n",
    "651.0, 419.0,\n",
    "104.0, 251.0,\n",
    "432.0, 94.0,\n",
    "395.0, 254.0,\n",
    "211.0, 372.0,\n",
    "545.0, 520.0,\n",
    "170.0, 510.0,\n",
    "51.0,  341.0,\n",
    "185.0, 138.0,\n",
    "560.0, 100.0,\n",
    "641.0, 188.0,\n",
    "325.0, 265.0,\n",
    "672.0, 345.0,\n",
    "676.0, 463.0])\n",
    "index  = np.array([i for i in range(40)])\n",
    "\n",
    "X = Points[np.where(index % 2 == 0)]\n",
    "Y = Points[np.where(index % 2 == 1)]"
   ]
  },
  {
   "cell_type": "code",
   "execution_count": 13,
   "id": "adbd9a60",
   "metadata": {},
   "outputs": [
    {
     "data": {
      "image/png": "[encoded data removed]",
      "text/plain": [
       "<Figure size 432x288 with 1 Axes>"
      ]
     },
     "metadata": {
      "needs_background": "light"
     },
     "output_type": "display_data"
    }
   ],
   "source": [
    "plt.plot(X, Y, 'ro')\n",
    "plt.show()"
   ]
  },
  {
   "cell_type": "code",
   "execution_count": 22,
   "id": "8dc9c11a",
   "metadata": {},
   "outputs": [],
   "source": [
    "d = np.array([[1e9 for i in range(20)] for i in range(20)])\n",
    "\n",
    "for p in range(400):\n",
    "    u = p // 20\n",
    "    v = p % 20\n",
    "    \n",
    "    d[u, v] = math.sqrt((X[u] - X[v]) * (X[u] - X[v]) + (Y[u] - Y[v]) * (Y[u] - Y[v]))"
   ]
  },
  {
   "cell_type": "code",
   "execution_count": 24,
   "id": "2fb26dd2",
   "metadata": {},
   "outputs": [],
   "source": [
    "def local_search(W_init, d):\n",
    "    Found = True\n",
    "    \n",
    "    while (Found):\n",
    "        Found = False\n",
    "        for i in range(20):\n",
    "            a = W_init[i]\n",
    "            b = W_init[(i + 1) % 20]\n",
    "\n",
    "            for j in range(i - 1):\n",
    "                u = W_init[j]\n",
    "                v = W_init[j + 1]\n",
    "\n",
    "                if (d[u, v] + d[a, b] > d[u, a] + d[v, b]):\n",
    "                    l = j + 1\n",
    "                    r = i\n",
    "\n",
    "                    while (l < r):\n",
    "                        W_init[l], W_init[r] = W_init[r], W_init[l]\n",
    "                        l += 1\n",
    "                        r -= 1\n",
    "\n",
    "                    Found = True\n",
    "                    break\n",
    "\n",
    "            if (Found):\n",
    "                break\n",
    "    \n",
    "    return  W_init"
   ]
  },
  {
   "cell_type": "code",
   "execution_count": 25,
   "id": "dfc766f2",
   "metadata": {},
   "outputs": [
    {
     "name": "stdout",
     "output_type": "stream",
     "text": [
      "[0, 8, 1, 15, 16, 5, 2, 18, 6, 19, 11, 3, 12, 4, 10, 13, 7, 14, 17, 9]\n"
     ]
    }
   ],
   "source": [
    "W_init = [i for i in range(20)]\n",
    "\n",
    "W = local_search(W_init, d)\n",
    "print(W)"
   ]
  },
  {
   "cell_type": "code",
   "execution_count": 26,
   "id": "4dafa6ba",
   "metadata": {},
   "outputs": [],
   "source": [
    "X = X[W]\n",
    "Y = Y[W]"
   ]
  },
  {
   "cell_type": "code",
   "execution_count": null,
   "id": "a3740e18",
   "metadata": {},
   "outputs": [],
   "source": [
    "plt.plot(X, )"
   ]
  }
 ],
 "metadata": {
  "kernelspec": {
   "display_name": "Python 3",
   "language": "python",
   "name": "python3"
  },
  "language_info": {
   "codemirror_mode": {
    "name": "ipython",
    "version": 3
   },
   "file_extension": ".py",
   "mimetype": "text/x-python",
   "name": "python",
   "nbconvert_exporter": "python",
   "pygments_lexer": "ipython3",
   "version": "3.9.4"
  }
 },
 "nbformat": 4,
 "nbformat_minor": 5
}
